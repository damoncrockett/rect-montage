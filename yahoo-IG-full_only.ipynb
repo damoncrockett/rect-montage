{
 "cells": [
  {
   "cell_type": "code",
   "execution_count": 1,
   "metadata": {
    "collapsed": true
   },
   "outputs": [],
   "source": [
    "import pandas as pd\n",
    "import os"
   ]
  },
  {
   "cell_type": "markdown",
   "metadata": {},
   "source": [
    "#### Add local paths to cluster data"
   ]
  },
  {
   "cell_type": "code",
   "execution_count": 2,
   "metadata": {
    "collapsed": true
   },
   "outputs": [],
   "source": [
    "PRE = \"/Users/damoncrockett/Desktop/cities_20k/\""
   ]
  },
  {
   "cell_type": "code",
   "execution_count": 3,
   "metadata": {
    "collapsed": true
   },
   "outputs": [],
   "source": [
    "DB = \"/Users/damoncrockett/Desktop/cities_20k/yahoo/Per_City_Clusters/Hierarchical_Cluster_Labels/\""
   ]
  },
  {
   "cell_type": "code",
   "execution_count": 4,
   "metadata": {
    "collapsed": false
   },
   "outputs": [],
   "source": [
    "data_files = []\n",
    "for root,dirs,files in os.walk(DB):\n",
    "    for name in files:\n",
    "        data_files.append(os.path.join(root,name))"
   ]
  },
  {
   "cell_type": "code",
   "execution_count": 5,
   "metadata": {
    "collapsed": true
   },
   "outputs": [],
   "source": [
    "# takes a few minutes to run\n",
    "\n",
    "for item in data_files:\n",
    "    tmp = pd.read_csv(item)\n",
    "    n = len(tmp.index)\n",
    "    local_path = []\n",
    "    for i in range(n):\n",
    "        local_path.append(PRE+tmp.city.loc[i]+\"_20k/\"+tmp.image_id.loc[i]+\".jpg\")\n",
    "    tmp['local_path'] = local_path\n",
    "    tmp.to_csv(item,index=False)"
   ]
  },
  {
   "cell_type": "code",
   "execution_count": 6,
   "metadata": {
    "collapsed": true
   },
   "outputs": [],
   "source": [
    "from PIL import Image"
   ]
  },
  {
   "cell_type": "code",
   "execution_count": 7,
   "metadata": {
    "collapsed": true
   },
   "outputs": [],
   "source": [
    "import numpy as np"
   ]
  },
  {
   "cell_type": "markdown",
   "metadata": {},
   "source": [
    "#### Now making square montage of every cluster (there should be 92)"
   ]
  },
  {
   "cell_type": "code",
   "execution_count": 9,
   "metadata": {
    "collapsed": false
   },
   "outputs": [
    {
     "name": "stdout",
     "output_type": "stream",
     "text": [
      "activities_bangkok 10\n"
     ]
    }
   ],
   "source": [
    "item = data_files[0]\n",
    "\n",
    "category = os.path.basename(item).rstrip(\"csv\").rstrip(\".\")\n",
    "folder = item.split(\"/\")[8]\n",
    "\n",
    "print category, folder"
   ]
  },
  {
   "cell_type": "code",
   "execution_count": 10,
   "metadata": {
    "collapsed": true
   },
   "outputs": [],
   "source": [
    "thumb_side = 64"
   ]
  },
  {
   "cell_type": "code",
   "execution_count": 11,
   "metadata": {
    "collapsed": false
   },
   "outputs": [],
   "source": [
    "for item in data_files:\n",
    "    category = os.path.basename(item).rstrip(\"csv\").rstrip(\".\")\n",
    "    folder = item.split(\"/\")[8]\n",
    "    df = pd.read_csv(item)\n",
    "    bins = list(set(list(df.cluster_id)))\n",
    "    \n",
    "    for member in bins:\n",
    "        outfile = PRE+\"viz/per_city/\"+category+\"_\"+folder+\"_\"+str(member)+\".png\"\n",
    "        \n",
    "        tmp = df[df.cluster_id==member]\n",
    "        n = len(tmp.index)\n",
    "        \n",
    "        side = int(round(np.sqrt(n)) - 1)\n",
    "        if side > 0:\n",
    "            m = side * side\n",
    "            tmp = tmp[:m]\n",
    "            n = len(tmp.index)\n",
    "            tmp.reset_index(drop=True,inplace=True)\n",
    "        \n",
    "            tmp[\"y_coord\"] = list(np.repeat(range(side),side) * thumb_side)\n",
    "            exes = list(range(side)) * side\n",
    "            tmp[\"x_coord\"] = [thumb_side * item for item in exes]\n",
    "        \n",
    "            canvas = Image.new('RGB',(side * thumb_side, side * thumb_side),(50,50,50))\n",
    "            for i in range(n):\n",
    "                thumb = Image.open(tmp.local_path.loc[i])\n",
    "                thumb.thumbnail((thumb_side,thumb_side),Image.ANTIALIAS)\n",
    "                canvas.paste(thumb,(tmp.x_coord.loc[i],tmp.y_coord.loc[i]))\n",
    "    \n",
    "            canvas.save(outfile)"
   ]
  },
  {
   "cell_type": "code",
   "execution_count": null,
   "metadata": {
    "collapsed": true
   },
   "outputs": [],
   "source": []
  }
 ],
 "metadata": {
  "kernelspec": {
   "display_name": "Python 2",
   "language": "python",
   "name": "python2"
  },
  "language_info": {
   "codemirror_mode": {
    "name": "ipython",
    "version": 2
   },
   "file_extension": ".py",
   "mimetype": "text/x-python",
   "name": "python",
   "nbconvert_exporter": "python",
   "pygments_lexer": "ipython2",
   "version": "2.7.10"
  }
 },
 "nbformat": 4,
 "nbformat_minor": 0
}
